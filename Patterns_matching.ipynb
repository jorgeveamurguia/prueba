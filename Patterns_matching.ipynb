{
  "cells": [
    {
      "cell_type": "markdown",
      "metadata": {
        "id": "view-in-github",
        "colab_type": "text"
      },
      "source": [
        "<a href=\"https://colab.research.google.com/github/jorgeveamurguia/prueba/blob/master/Patterns_matching.ipynb\" target=\"_parent\"><img src=\"https://colab.research.google.com/assets/colab-badge.svg\" alt=\"Open In Colab\"/></a>"
      ]
    },
    {
      "cell_type": "code",
      "execution_count": null,
      "metadata": {
        "id": "857vqnI8Ygf_"
      },
      "outputs": [],
      "source": [
        "import cv2\n",
        "from google.colab.patches import cv2_imshow\n",
        "from google.colab import drive\n",
        "\n",
        "drive.mount('/content/gdrive')"
      ]
    },
    {
      "cell_type": "code",
      "execution_count": null,
      "metadata": {
        "id": "46iCISqGY1Id"
      },
      "outputs": [],
      "source": [
        "\n",
        "!ls \"/content/gdrive/MyDrive/ZEU/100-OS2-NoOk-Mota-f21a.jpg\"\n",
        "#pic = cv2.imread('/content/gdrive/drive/u/0/my-drive/photo-1509909756405-be0199881695.jpeg')\n",
        "#pic = cv2.imread('/content/drivedrive/drive/u/0/my-drive/photo-1509909756405-be0199881695.jpeg')\n",
        "pic = cv2.imread('/content/gdrive/MyDrive/ZEU/100-OS2-NoOk-Mota-f21a.jpg')"
      ]
    },
    {
      "cell_type": "code",
      "execution_count": null,
      "metadata": {
        "id": "UoSSyEHoZhwW"
      },
      "outputs": [],
      "source": [
        "\n",
        "cv2_imshow(pic)\n",
        "cv2.waitKey(0)"
      ]
    },
    {
      "cell_type": "code",
      "execution_count": null,
      "metadata": {
        "id": "fHXetoW-ow7P"
      },
      "outputs": [],
      "source": [
        "import numpy as np\n",
        "import cv2"
      ]
    },
    {
      "cell_type": "code",
      "execution_count": null,
      "metadata": {
        "id": "rJgB0UCYo2T8"
      },
      "outputs": [],
      "source": [
        "src = cv2.imread(\"/content/gdrive/MyDrive/ZEU/100-OS2-NoOk-Mota-f21a.jpg\")\n",
        "Temp = cv2.imread(\"/content/gdrive/MyDrive/ZEU/marcador-Blanco-25.jpg\")"
      ]
    },
    {
      "cell_type": "code",
      "execution_count": null,
      "metadata": {
        "id": "y4FrIPjhsN8U"
      },
      "outputs": [],
      "source": [
        "src = cv2.cvtColor(src, cv2.COLOR_RGB2GRAY)\n",
        "temp = cv2.cvtColor(Temp, cv2.COLOR_RGB2GRAY)"
      ]
    },
    {
      "cell_type": "code",
      "execution_count": null,
      "metadata": {
        "id": "gucQYUtKs39W"
      },
      "outputs": [],
      "source": [
        "height, width =src.shape\n",
        "height, width"
      ]
    },
    {
      "cell_type": "code",
      "execution_count": null,
      "metadata": {
        "id": "BowfM20Mp6rB"
      },
      "outputs": [],
      "source": [
        "H, W = temp.shape\n",
        "H, W"
      ]
    },
    {
      "cell_type": "code",
      "execution_count": null,
      "metadata": {
        "id": "68f-LllYs_i1"
      },
      "outputs": [],
      "source": [
        "methods = [cv2.TM_CCOEFF, cv2.TM_CCOEFF_NORMED, cv2.TM_CCORR,\n",
        "            cv2.TM_CCORR_NORMED, cv2.TM_SQDIFF, cv2.TM_SQDIFF_NORMED]"
      ]
    },
    {
      "cell_type": "code",
      "execution_count": null,
      "metadata": {
        "colab": {
          "background_save": true
        },
        "id": "3MMlzQzPtFuy"
      },
      "outputs": [],
      "source": [
        "for method in methods:\n",
        "  src2 = src.copy()\n",
        "\n",
        "  result = cv2.matchTemplate(src2, temp, method)\n",
        "  min_val, max_val, min_loc, max_loc = cv2.minMaxLoc(result)\n",
        "  print(min_loc, max_loc)\n",
        "  if method in [cv2.TM_SQDIFF,cv2.TM_CCORR]:\n",
        "    location = min_loc\n",
        "  else:\n",
        "    location = max_loc\n",
        "  bottom_right = (location[0] + W, location[1] + H)\n",
        "  cv2.rectangle(src2, location,bottom_right, 255, 5)\n",
        "  cv2_imshow(src2)\n",
        "  cv2.waitKey(0)\n",
        "  cv2.destroyAllWindows()"
      ]
    },
    {
      "cell_type": "code",
      "execution_count": null,
      "metadata": {
        "id": "gAgBpRR9DA6O"
      },
      "outputs": [],
      "source": [
        "def intersection(a,b):\n",
        "  x = max(a[0], b[0])\n",
        "  y = max(a[1], b[1])\n",
        "  w = min(a[2], b[2]) - x\n",
        "  h = min(a[3], b[3]) - y\n",
        "  #print(f\"{a} {b}\")\n",
        "  if w<0 or h<0: return (0,0,0,0)\n",
        "  return (x, y, x + w, y + h)\n",
        "\n",
        "src4 = src.copy()\n",
        "\n",
        "result = cv2.matchTemplate(src4, temp, cv2.TM_CCOEFF_NORMED)\n",
        "threshold = 0.39\n",
        "\n",
        "loc = np.where( result >= threshold) # filter the results\n",
        "mark1 = H , W,  height*2, width*2\n",
        "mark2 = H , W,  height*2, width*2\n",
        "mark3 = H , W,  height*2, width*2\n",
        "for pt in zip(*loc[::-1]): #pt marks the location of the match\n",
        "    #print(pt[0] + W, pt[1] + H)\n",
        "    a = pt[0] , pt[1], pt[0] + W, pt[1] + H\n",
        "\n",
        "    test1=intersection(a, mark1 )\n",
        "    test2=intersection(a, mark2 )\n",
        "    test3=intersection(a, mark3 )\n",
        "    if ( (0,0,0,0) != test1):\n",
        "      aux1 = test1\n",
        "    elif ( (0,0,0,0) != test2 ):\n",
        "      aux2 = test2\n",
        "    elif ( (0,0,0,0) != test3):\n",
        "      aux3 = test3\n",
        "    #cv2.rectangle(src4, pt, (pt[0] + W, pt[1] + H), (0,0,255), 2)\n",
        "\n",
        "cv2.rectangle(src4, (aux1[0], aux1[1] ), (aux1[2], aux1[3]), (255,0,255), 2)\n",
        "cv2.rectangle(src4, (aux2[0], aux2[1] ), (aux2[2], aux2[3]), (0,255,255), 2)\n",
        "cv2.rectangle(src4, (aux3[0], aux3[1] ), (aux3[2], aux3[3]), (255,255,0), 2)\n",
        "\n",
        "cv2_imshow(src4)\n",
        "cv2.waitKey(0)\n",
        "cv2.destroyAllWindows()\n"
      ]
    },
    {
      "cell_type": "code",
      "execution_count": null,
      "metadata": {
        "id": "HY73HF9qgCO6"
      },
      "outputs": [],
      "source": [
        "src5 = src.copy()\n",
        "edges = cv2.Canny(src, 50, 150, apertureSize = 3)\n",
        "lines = cv2.HoughLinesP(edges, 1, np.pi/180, 100, minLineLength=100, maxLineGap=10)\n",
        "#https://newbedev.com/cropping-concave-polygon-from-image-using-opencv-python\n",
        "def inside(rect, line):\n",
        "  print (f\"{rect} {line} {rect[0] < line [0] and rect[1] > line [1] and rect[2] > line [0] and rect[3] < line [1] }\" )\n",
        "\n",
        "  return (rect[0] < line [0] and rect[1] > line [1] and rect[2] > line [0] and rect[3] < line [1] ) #and (rect[0] < line [2] and rect[1] > line [3] and rect[2] > line [2] and rect[3] < line [3]  )\n",
        "\n",
        "\n",
        "for line in lines:\n",
        "    x1, y1, x2, y2 = line[0]\n",
        "    if inside (aux1 , line[0] ) or inside (aux2 , line[0] ) or  inside (aux3 , line[0] ):\n",
        "      cv2.line(src5, (x1,y1), (x2,y2), (0,255,0), 5, cv2.LINE_AA)\n",
        "\n",
        "cv2_imshow(src5)\n",
        "cv2.waitKey(0)\n",
        "cv2.destroyAllWindows()"
      ]
    },
    {
      "cell_type": "code",
      "execution_count": null,
      "metadata": {
        "id": "sL4U7Eii6-y1"
      },
      "outputs": [],
      "source": [
        "\n",
        "\n",
        "src3 = src.copy()\n",
        "\n",
        "result = cv2.matchTemplate(src3, temp, cv2.TM_CCOEFF_NORMED)\n",
        "\n",
        "\n",
        "#get all the matches:\n",
        "result2 = np.reshape(result, result.shape[0]*result.shape[1])\n",
        "sort = np.argsort(result2)\n",
        "(y1, x1) = np.unravel_index(sort[0], result.shape) # corner match\n",
        "(y2, x2) = np.unravel_index(sort[1], result.shape) # corner best match\n",
        "(y3, x3) = np.unravel_index(sort[2], result.shape) # corner best match\n",
        "\n",
        "\n",
        "location =  y1 ,x1\n",
        "bottom_right = (location[0] + W, location[1] + H)\n",
        "cv2.rectangle(src3, location,bottom_right, 255, 5)\n",
        "\n",
        "location =  y2 ,x2\n",
        "bottom_right = (location[0] + W, location[1] + H)\n",
        "cv2.rectangle(src3, location,bottom_right, 255, 5)\n",
        "\n",
        "location =  y3 ,x3\n",
        "bottom_right = (location[0] + W, location[1] + H)\n",
        "cv2.rectangle(src3, location,bottom_right, 255, 5)\n",
        "\n",
        "cv2_imshow(src3)\n",
        "cv2.waitKey(0)\n",
        "cv2.destroyAllWindows()\n"
      ]
    }
  ],
  "metadata": {
    "colab": {
      "provenance": [],
      "include_colab_link": true
    },
    "kernelspec": {
      "display_name": "Python 3",
      "name": "python3"
    },
    "language_info": {
      "name": "python"
    }
  },
  "nbformat": 4,
  "nbformat_minor": 0
}